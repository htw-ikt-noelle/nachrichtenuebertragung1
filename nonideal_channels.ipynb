{
 "cells": [
  {
   "cell_type": "markdown",
   "metadata": {},
   "source": [
    "# Influence of distortions on the information signal\n",
    "\n",
    "This demo is supposed to show the influence of a nonideal transmission or [communication channel](https://en.wikipedia.org/wiki/Communication_channel) on a [baseband information signal](https://en.wikipedia.org/wiki/Baseband).\n",
    "\n",
    "This demo is written by [Markus Nölle](https://www.htw-berlin.de/hochschule/personen/person/?eid=9586) for a basic course on [communications engineering](https://en.wikipedia.org/wiki/Telecommunications_engineering) hold at the [university of applied sciences, Berlin](https://www.htw-berlin.de/)."
   ]
  },
  {
   "cell_type": "markdown",
   "metadata": {},
   "source": [
    "## Import libraries and set defaults"
   ]
  },
  {
   "cell_type": "code",
   "execution_count": 1,
   "metadata": {
    "jupyter": {
     "source_hidden": true
    },
    "tags": []
   },
   "outputs": [],
   "source": [
    "import numpy as np\n",
    "import scipy.signal as signal\n",
    "import matplotlib.pyplot as plt\n",
    "import ipywidgets as widgets\n",
    "\n",
    "%config InlineBackend.figure_format = 'svg'\n",
    "\n",
    "plt.style.use('noelle.mplstyle')\n",
    "plt.rcParams[\"figure.figsize\"] = (4.0,2.5)\n",
    "\n",
    "#inline, widget \n",
    "%matplotlib inline"
   ]
  },
  {
   "cell_type": "markdown",
   "metadata": {},
   "source": [
    "## General parameters\n",
    "Basic parameters like sample rate, time axis and frequency axis are defined."
   ]
  },
  {
   "cell_type": "code",
   "execution_count": 2,
   "metadata": {
    "jupyter": {
     "source_hidden": true
    }
   },
   "outputs": [],
   "source": [
    "n_bits = 100\n",
    "sps = 10\n",
    "sample_rate = 1\n",
    "\n",
    "t = np.arange(0, sps*sample_rate*n_bits, 1/sample_rate)\n",
    "f = np.fft.fftshift(np.fft.fftfreq(np.size(t), 1/sample_rate))\n",
    "n = np.size(t) # length of signal"
   ]
  },
  {
   "cell_type": "markdown",
   "metadata": {},
   "source": [
    "## Communication channel\n",
    "\n",
    "We assume the communication channel to be a [linear timeinvariant (LTI) system](https://en.wikipedia.org/wiki/Linear_time-invariant_system). So it can simply be characterized by its [impulse response](https://en.wikipedia.org/wiki/Linear_time-invariant_system#Impulse_response_and_convolution) or its [frequency response](https://en.wikipedia.org/wiki/Linear_time-invariant_system#Exponentials_as_eigenfunctions).\n",
    "\n",
    "A distortion-free communication channel only performs a scaling (with a factor $s$) and a potential delay (of the time $\\tau$) on the input signal. This distortion-free channel can therefore be described with following impulse response and frequency responste\n",
    "$$\n",
    "\\begin{eqnarray}\n",
    "h(t) &=&  s \\cdot \\delta(t-\\tau)\\\\\n",
    "H(j\\omega) &=& s \\cdot \\exp(-j\\omega\\tau),\n",
    "\\end{eqnarray}\n",
    "$$\n",
    "respectively.\n",
    "\n",
    "When introducing deviations from this distotion-free system, the input signal will be distorted by the communiction channel and hence, the signal recovery might be hindered. Two simple, parametrizable deviations from the distortion-free system are exemplary shown here.\n",
    "\n",
    "### Cosine ripple on the amplitude transfer function\n",
    "\n",
    "The amplitude transfer function will distorted by an additional, unwanted cosine ripple which can be described as\n",
    "$$\n",
    "H(j\\omega) = (s + a \\cdot \\cos(\\alpha \\omega)) \\cdot \\exp(-j\\omega\\tau),\n",
    "$$\n",
    "while $a$ is the strength (amplitude) of this distortion and $\\alpha$ characterized the frequency of the cosine ripple. This distortion leads to the follwoing impulse response\n",
    "$$\n",
    "h(t) =  s \\cdot \\delta(t-\\tau) + \\frac{a}{2}(\\delta(t-\\alpha-\\tau)+\\delta(t+\\alpha-\\tau)).\n",
    "$$\n",
    "Convolution of the input signal ($x(t)$) with this inpulse response reveals the distorted output signal\n",
    "$$\n",
    "\\begin{eqnarray}\n",
    "y(t) &=&  x(t) \\ast h(t)\\\\\n",
    "&=& s\\cdot x(t-\\tau) + \\frac{a}{2}(x(t-\\tau-\\alpha) + x(t-\\tau+\\alpha)).\n",
    "\\end{eqnarray}\n",
    "$$\n",
    "It can be seen, that this simple distortion causes symmetric, scaled echos of the input signal after transmission. The strength of these echos is dependent on the amplitude of the ripple, while their distance to the main output is dependent on the ripple's frequency. It becomes apparent that this distortion will eventually cause interference to temporally neighbouring bits and therefore reduce the signal quality.\n",
    "\n",
    "### Sine ripple on the phase transfer function"
   ]
  },
  {
   "cell_type": "markdown",
   "metadata": {},
   "source": [
    "## Generate information signal"
   ]
  },
  {
   "cell_type": "code",
   "execution_count": 3,
   "metadata": {
    "jupyter": {
     "source_hidden": true
    },
    "tags": []
   },
   "outputs": [],
   "source": [
    "def plot_dist_signal(a=0.0, alpha=1.0, b=0.0, beta=1.0):\n",
    "    # generate whole information signal\n",
    "    rg = np.random.default_rng(12345)\n",
    "    sig = rg.integers(0, high=2, size=n_bits)\n",
    "    sig = np.repeat(sig, sps)\n",
    "    transfer_function = signal.windows.gaussian(sig.size, 100)\n",
    "    sig = np.real(np.fft.ifft(np.fft.fft(sig) * np.fft.fftshift(transfer_function)))\n",
    "\n",
    "    sig_one = np.zeros(n_bits)\n",
    "    sig_one[2] = 1.0\n",
    "    sig_one = np.repeat(sig_one, sps)\n",
    "    sig_one = np.real(np.fft.ifft(np.fft.fft(sig_one) * np.fft.fftshift(transfer_function)))\n",
    "\n",
    "    omega = 2*np.pi*f\n",
    "    tau = 1;\n",
    "    H = (np.ones(sig.size) + a * np.cos(alpha * omega)) * np.exp(-1j * (omega * tau - b * np.sin(beta * omega)))\n",
    "\n",
    "    sig_ch = np.real(np.fft.ifft(np.fft.fft(sig) * np.fft.fftshift(H)))\n",
    "    sig_ch = sig_ch / np.max(sig_ch)\n",
    "    sig_one_ch = np.real(np.fft.ifft(np.fft.fft(sig_one) * np.fft.fftshift(H)))\n",
    "    sig_one_ch = sig_one_ch / np.max(sig_one_ch)\n",
    "\n",
    "    # plotting\n",
    "    n_row = 2\n",
    "    n_col = 4\n",
    "    fig_size = [i*j for i,j in zip(plt.rcParams['figure.figsize'], [n_col, n_row])]\n",
    "    fig = plt.figure(figsize=fig_size)\n",
    "\n",
    "    ax = fig.add_subplot(1, 4, 1)\n",
    "    plt.plot(omega, np.abs(H), 'C0', omega, np.angle(H)/np.pi, 'C3')\n",
    "    ax.set(xlabel=r\"$\\Omega$ / rad\", ylabel=\"amplitude (a.u.) / phase (rad/$\\pi$)\", title=\"transfer function\")\n",
    "    ax.legend(('$|H(j\\Omega)|$','arg($H(j\\Omega)$)'))\n",
    "    ax.set_ylim((-1,2))\n",
    "\n",
    "    ax = fig.add_subplot(n_row, n_col, 2)\n",
    "    plt.plot(t[0:int(5*sps):], sig_one[0:int(5*sps):] ,'C0', t[0:int(5*sps):], sig_one_ch[0:int(5*sps):] ,'C1')\n",
    "    ax.set(xlabel=\"time / s\", ylabel=\"amplitude / a.u.\", title=\"single '1'-pulse\")\n",
    "    ax.legend(('input signal','output signal'))\n",
    "\n",
    "    ax = fig.add_subplot(n_row, n_col, 3)\n",
    "    n_bits_plot = 10\n",
    "    plt.plot(t[0:int(n_bits_plot*sps):], sig[0:int(n_bits_plot*sps):] ,'C0', t[0:int(n_bits_plot*sps):], sig_ch[0:int(n_bits_plot*sps):] ,'C1')\n",
    "    ax.set(xlabel=\"time / s\", ylabel=\"amplitude / a.u.\", title=\"bit pattern\")\n",
    "    ax.legend(('input signal','output signal'))\n",
    "    \n",
    "    ax = fig.add_subplot(1, 4, 4)\n",
    "    Sig = np.abs(np.fft.fftshift(np.fft.fft(sig)))\n",
    "    Sig = 20*np.log10(Sig/np.max(Sig))\n",
    "    Sig_ch = np.abs(np.fft.fftshift(np.fft.fft(sig_ch)))\n",
    "    Sig_ch = 20*np.log10(Sig_ch/np.max(Sig_ch))\n",
    "    plt.plot(omega, Sig ,'C0', omega, Sig_ch ,'C1')\n",
    "    ax.set(xlabel=r\"$\\Omega$ / rad\", ylabel=\"norm. amplitude / dB\", title=\"signal amplitude spectra\")\n",
    "    ax.legend(('input signal','output signal'))\n",
    "    ax.set_ylim((-50,0))\n",
    "\n",
    "\n",
    "    ax = fig.add_subplot(n_row, n_col, 6)\n",
    "    plt.plot(t[0:int(2*sps):], np.reshape(np.roll(sig, int(sps/2)),(int(2*sps),-1),order='F') ,'C0')\n",
    "    ax.set(xlabel=\"time / s\", ylabel=\"amplitude / a.u.\", title=\"input signal\")\n",
    "\n",
    "    ax = fig.add_subplot(n_row, n_col, 7)\n",
    "    plt.plot(t[0:int(2*sps):], np.reshape(np.roll(sig_ch, int(sps/2)),(int(2*sps),-1),order='F') ,'C1')\n",
    "    ax.set(xlabel=\"time / s\", ylabel=\"amplitude / a.u.\", title=\"output signal\")\n",
    "\n",
    "\n",
    "    plt.tight_layout()"
   ]
  },
  {
   "cell_type": "code",
   "execution_count": 4,
   "metadata": {
    "jupyter": {
     "source_hidden": true
    },
    "tags": []
   },
   "outputs": [
    {
     "data": {
      "application/vnd.jupyter.widget-view+json": {
       "model_id": "e9a5fdff62a24f0d873848577ccca578",
       "version_major": 2,
       "version_minor": 0
      },
      "text/plain": [
       "HBox(children=(FloatSlider(value=0.0, continuous_update=False, description='a', max=1.0), FloatSlider(value=1.…"
      ]
     },
     "metadata": {},
     "output_type": "display_data"
    },
    {
     "data": {
      "application/vnd.jupyter.widget-view+json": {
       "model_id": "533efdcd45184139a5dd030e0545a3bf",
       "version_major": 2,
       "version_minor": 0
      },
      "text/plain": [
       "Output(layout=Layout(height='500px'))"
      ]
     },
     "metadata": {},
     "output_type": "display_data"
    }
   ],
   "source": [
    "w_a = widgets.FloatSlider(min=0.0, max=1.0, step=0.1, value=0.0, continuous_update=False, description=r'a')\n",
    "w_alpha = widgets.FloatSlider(min=0.0, max=10.0, step=0.1, value=1.0, continuous_update=False, description=r'$\\alpha$')\n",
    "w_b = widgets.FloatSlider(min=0.0, max=1.0, step=0.1, value=0.0, continuous_update=False, description=r'b')\n",
    "w_beta = widgets.FloatSlider(min=0.0, max=10.0, step=0.1, value=1.0, continuous_update=False, description=r'$\\beta$')\n",
    "\n",
    "ui = widgets.HBox([w_a, w_alpha, w_b, w_beta])\n",
    "\n",
    "out = widgets.interactive_output(plot_dist_signal, {'a':w_a, 'alpha':w_alpha, 'b':w_b, 'beta':w_beta})\n",
    "out.layout.height = '500px'\n",
    "\n",
    "display(ui, out)"
   ]
  }
 ],
 "metadata": {
  "kernelspec": {
   "display_name": "Python 3 (ipykernel)",
   "language": "python",
   "name": "python3"
  },
  "language_info": {
   "codemirror_mode": {
    "name": "ipython",
    "version": 3
   },
   "file_extension": ".py",
   "mimetype": "text/x-python",
   "name": "python",
   "nbconvert_exporter": "python",
   "pygments_lexer": "ipython3",
   "version": "3.10.2"
  }
 },
 "nbformat": 4,
 "nbformat_minor": 4
}
