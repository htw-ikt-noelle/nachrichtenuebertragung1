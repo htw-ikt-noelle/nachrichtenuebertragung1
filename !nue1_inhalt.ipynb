{
 "cells": [
  {
   "cell_type": "markdown",
   "id": "94bfe5b7-6e84-4608-a17d-85f97ec5e4b6",
   "metadata": {},
   "source": [
    "# Nachrichtenübertragung 1\n",
    "\n",
    "## Einleitung\n",
    "Bild Überblick System\n",
    "\n",
    "## Wiederholung Signale und Systeme\n",
    "\n",
    "### dB Rechnung\n",
    "\n",
    "[dB Rechnung](dezibel.ipynb)\n",
    "\n",
    "### Fouriertransformation\n",
    "\n",
    "### Lineare, zeitinvariante Systeme\n",
    "\n",
    "## Basisbandübertragung\n",
    "\n",
    "### Definition Basisband- und Bandpasssignal\n",
    "\n",
    "### Beispiele Basisbandsysteme\n",
    "\n",
    "### Abtastung und Quantisierung\n",
    "\n",
    "### Beschreibung von Übertragungskanälen\n",
    "\n",
    "[nichtideale Übertragungskanäle](nonideal_channels.ipynb)\n",
    "\n",
    "### Leitungscodierung\n",
    "\n",
    "### Rauschen\n",
    "\n",
    "### Pulsformung\n",
    "\n",
    "[Pulsformung](pulsformung.ipynb)\n",
    "\n",
    "### Mehrstufige Datensymbole\n",
    "\n",
    "### Entzerrung\n",
    "\n",
    "## Codierung\n",
    "\n",
    "### Quellencodierung\n",
    "\n",
    "[JPEG Kompression](dct_image_compression.ipynb)\n",
    "\n",
    "### Kanalcodierung\n",
    "\n",
    "## Literatur"
   ]
  }
 ],
 "metadata": {
  "kernelspec": {
   "display_name": "Python 3 (ipykernel)",
   "language": "python",
   "name": "python3"
  },
  "language_info": {
   "codemirror_mode": {
    "name": "ipython",
    "version": 3
   },
   "file_extension": ".py",
   "mimetype": "text/x-python",
   "name": "python",
   "nbconvert_exporter": "python",
   "pygments_lexer": "ipython3",
   "version": "3.10.2"
  }
 },
 "nbformat": 4,
 "nbformat_minor": 5
}
