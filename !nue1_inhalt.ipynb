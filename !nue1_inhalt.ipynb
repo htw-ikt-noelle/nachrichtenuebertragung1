{
 "cells": [
  {
   "attachments": {},
   "cell_type": "markdown",
   "id": "94bfe5b7-6e84-4608-a17d-85f97ec5e4b6",
   "metadata": {},
   "source": [
    "# Nachrichtenübertragung 1\n",
    "\n",
    "## [Einleitung](einleitung.ipynb)\n",
    "\n",
    "\n",
    "## Wiederholung Signale und Systeme\n",
    "\n",
    "1. [dB Rechnung](dezibel.ipynb)\n",
    "\n",
    "1. Fouriertransformation\n",
    "\n",
    "1. Lineare, zeitinvariante Systeme\n",
    "\n",
    "## Basisbandübertragung\n",
    "\n",
    "1. [Definition Basisband- und Bandpasssignal](basisband-bandpass.ipynb)\n",
    "\n",
    "1. Beispiele Basisbandsysteme\n",
    "\n",
    "1. [Pulsformung](pulsformung.ipynb)\n",
    "\n",
    "1. Exkurs: Augendiagramm\n",
    "\n",
    "1. Rauschen\n",
    "\n",
    "1. Singalangepasstes Filter (matched filter)\n",
    "\n",
    "1. [Abtastung und Quantisierung](dac_adc.ipynb)\n",
    "\n",
    "1. [Beschreibung von Übertragungskanälen](nonideal_channels.ipynb)\n",
    "\n",
    "1. Mehrstufige Datensymbole\n",
    "\n",
    "1. Entzerrung\n",
    "\n",
    "## Codierung\n",
    "\n",
    "1. [Quellencodierung](dct_image_compression.ipynb)\n",
    "\n",
    "1. Leitungscodierung\n",
    "\n",
    "## Literatur\n",
    "* Kammeyer, Nachrichtenübertragung, 5. Auflage, 2011\n",
    "* Werner, Nachrichtentechnik, 7. Auflage, 2010\n",
    "* Bossert, Einführung in die Nachrichtentechnik, 2012\n",
    "* Mäusl, Analoge und digitale Modulationsverfahren, 2002\n",
    "* Ohm, Signalübertragung, 11. Auflage, 2010\n",
    "* Noll, Vorlesungsskript Signale und Systeme, TU Berlin, SoSe 2008\n",
    "* Noll, Vorlesungsskript Nachrichtenübertragung I+II, TU Berlin, WiSe 2007/2008\n",
    "\n",
    "* Oppenheim, Signals & Systems, second edition, 1996\n",
    "* Proakis, Digital Communications, 5th edition, 2008\n",
    "\n",
    "* [Lerntutorial für Nachrichtentechnik im WWW, TU München](http://www.lntwww.de/)\n",
    "* [dB or not dB ?, Rohde & Schwarz, Application Note 1MA98](https://www.rohde-schwarz.com/de/applikationen/db-oder-nicht-db-educational-note_230850-15534.html)\n"
   ]
  }
 ],
 "metadata": {
  "kernelspec": {
   "display_name": "Python 3 (ipykernel)",
   "language": "python",
   "name": "python3"
  },
  "language_info": {
   "codemirror_mode": {
    "name": "ipython",
    "version": 3
   },
   "file_extension": ".py",
   "mimetype": "text/x-python",
   "name": "python",
   "nbconvert_exporter": "python",
   "pygments_lexer": "ipython3",
   "version": "3.11.4"
  }
 },
 "nbformat": 4,
 "nbformat_minor": 5
}
